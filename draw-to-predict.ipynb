{
 "cells": [
  {
   "cell_type": "code",
   "execution_count": 8,
   "metadata": {},
   "outputs": [],
   "source": [
    "import pygame\n",
    "from pygame.locals import *\n",
    "import os\n",
    "import sys\n",
    "import numpy as np\n",
    "import cv2\n",
    "import requests"
   ]
  },
  {
   "cell_type": "code",
   "execution_count": 9,
   "metadata": {},
   "outputs": [],
   "source": [
    "def predict(canvas):\n",
    "    img = np.flipud(np.rot90(pygame.surfarray.array3d(canvas)))\n",
    "    img = cv2.cvtColor(img,cv2.COLOR_RGB2GRAY)\n",
    "    img = cv2.GaussianBlur(img, (5,5), 0)\n",
    "    oimg = img.copy()\n",
    "    img = cv2.resize(img,(18,18))\n",
    "    \n",
    "    img = np.pad(img,((5,5),(5,5)),\"constant\",constant_values=255)\n",
    "    \n",
    "    test_x = 255-np.array(img)\n",
    "    r = requests.post('http://localhost:9860/', json = {'test_x':test_x.tolist()})\n",
    "    digit_op_1 = r.json()['result_1']\n",
    "    digit_op_2 = r.json()['result_2']\n",
    "    print(\"result_1 : {}, result_2 : {} \".format(digit_op_1,digit_op_2))\n",
    "    cv2.imshow(\"Result\",img)\n",
    "    cv2.waitKey(0)\n",
    "    cv2.destroyAllWindows()\n",
    "    "
   ]
  },
  {
   "cell_type": "code",
   "execution_count": 10,
   "metadata": {},
   "outputs": [
    {
     "name": "stdout",
     "output_type": "stream",
     "text": [
      "result_1 : 2, result_2 : 2 \n",
      "result_1 : 6, result_2 : 5 \n",
      "result_1 : 3, result_2 : 3 \n",
      "result_1 : 4, result_2 : 4 \n",
      "result_1 : 5, result_2 : 1 \n",
      "result_1 : 5, result_2 : 1 \n",
      "result_1 : 7, result_2 : 7 \n"
     ]
    },
    {
     "ename": "SystemExit",
     "evalue": "",
     "output_type": "error",
     "traceback": [
      "An exception has occurred, use %tb to see the full traceback.\n",
      "\u001b[1;31mSystemExit\u001b[0m\n"
     ]
    },
    {
     "name": "stderr",
     "output_type": "stream",
     "text": [
      "C:\\Users\\667994\\.conda\\envs\\dlenv\\lib\\site-packages\\IPython\\core\\interactiveshell.py:3339: UserWarning: To exit: use 'exit', 'quit', or Ctrl-D.\n",
      "  warn(\"To exit: use 'exit', 'quit', or Ctrl-D.\", stacklevel=1)\n"
     ]
    }
   ],
   "source": [
    "## Run this cell to draw the number(using mouse-left-button) in the canvas and detect when right clicked(mouse-right-button)\n",
    "\n",
    "pygame.init()\n",
    "pygame.display.set_caption('Drawing_App')\n",
    "mouse = pygame.mouse\n",
    "fpsClock = pygame.time.Clock()\n",
    "window = pygame.display.set_mode((280,280))\n",
    "canvas = window.copy()\n",
    "\n",
    "BLACK = pygame.Color( 0 ,  0 ,  0 )\n",
    "WHITE = pygame.Color(255, 255, 255)\n",
    "\n",
    "canvas.fill(WHITE)\n",
    "while True:\n",
    "    left_pressed, middle_pressed, right_pressed = mouse.get_pressed()\n",
    "    \n",
    "    for event in pygame.event.get():\n",
    "        if event.type == QUIT:\n",
    "            pygame.quit()\n",
    "            sys.exit()\n",
    "        elif left_pressed:\n",
    "            pygame.draw.circle(canvas, BLACK, (pygame.mouse.get_pos()),10)\n",
    "        elif right_pressed:\n",
    "            predict(canvas)\n",
    "            window.fill(WHITE)\n",
    "            canvas.fill(WHITE)\n",
    "\n",
    "                        \n",
    "    window.fill(WHITE)\n",
    "    window.blit(canvas, (0, 0))\n",
    "    pygame.draw.circle(window, BLACK, (pygame.mouse.get_pos()), 10)\n",
    "    pygame.display.update()\n",
    "    "
   ]
  },
  {
   "cell_type": "code",
   "execution_count": null,
   "metadata": {},
   "outputs": [],
   "source": []
  },
  {
   "cell_type": "code",
   "execution_count": null,
   "metadata": {},
   "outputs": [],
   "source": []
  },
  {
   "cell_type": "code",
   "execution_count": null,
   "metadata": {},
   "outputs": [],
   "source": []
  },
  {
   "cell_type": "code",
   "execution_count": null,
   "metadata": {},
   "outputs": [],
   "source": []
  },
  {
   "cell_type": "code",
   "execution_count": null,
   "metadata": {},
   "outputs": [],
   "source": []
  },
  {
   "cell_type": "code",
   "execution_count": null,
   "metadata": {},
   "outputs": [],
   "source": []
  }
 ],
 "metadata": {
  "kernelspec": {
   "display_name": "Python 3",
   "language": "python",
   "name": "python3"
  },
  "language_info": {
   "codemirror_mode": {
    "name": "ipython",
    "version": 3
   },
   "file_extension": ".py",
   "mimetype": "text/x-python",
   "name": "python",
   "nbconvert_exporter": "python",
   "pygments_lexer": "ipython3",
   "version": "3.7.3"
  }
 },
 "nbformat": 4,
 "nbformat_minor": 4
}
