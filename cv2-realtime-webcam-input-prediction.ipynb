{
 "cells": [
  {
   "cell_type": "code",
   "execution_count": 1,
   "metadata": {},
   "outputs": [],
   "source": [
    "import cv2 \n",
    "import numpy as np\n",
    "import requests\n",
    "import matplotlib.pyplot as plt"
   ]
  },
  {
   "cell_type": "code",
   "execution_count": 2,
   "metadata": {},
   "outputs": [],
   "source": [
    "cap = cv2.VideoCapture(0)\n",
    "\n",
    "while(True):\n",
    "    # Capture frame-by-frame\n",
    "    ret, orig_img = cap.read()\n",
    "    cv2.rectangle(orig_img, (0,0), (320,320), (250,0,0) , 2) \n",
    "        \n",
    "    gray = cv2.cvtColor(orig_img, cv2.COLOR_BGR2GRAY) \n",
    "    blur = cv2.GaussianBlur(gray, (35,35), 0)\n",
    "\n",
    "    #thresholding\n",
    "    ret, thresh = cv2.threshold(blur, 70, 255, cv2.THRESH_BINARY_INV + cv2.THRESH_OTSU)\n",
    "    x, y, w, h = 0, 0, 250, 250\n",
    "    thresh  = 255 - thresh[y:y + h, x:x + w]\n",
    "    \n",
    "    cr_img = cv2.resize(thresh, (18,18))\n",
    "    cr_img = np.pad(cr_img,((5,5),(5,5)),\"constant\",constant_values=255)\n",
    "    \n",
    "    test_x = np.array(cr_img)\n",
    "    r = requests.post('http://localhost:9860/', json = {'test_x':test_x.tolist()})\n",
    "    digit_op_1 = r.json()['result_1']\n",
    "    digit_op_2 = r.json()['result_2']\n",
    "    \n",
    "    orig_img = cv2.putText(orig_img, \"NN: \"+str(digit_op_1)+\", CNN: \"+str(digit_op_2) , (300,300), cv2.FONT_HERSHEY_SIMPLEX ,  \n",
    "                   1,  (0, 255, 0) , 2, cv2.LINE_AA) \n",
    "    \n",
    "    cv2.imshow('frame',orig_img)\n",
    "    cv2.imshow('frame2',cr_img)\n",
    "    \n",
    "    if cv2.waitKey(1) & 0xFF == ord('q'):\n",
    "        cv2.imwrite('digit_image.png',cr_img)\n",
    "        break\n",
    "    \n",
    "cap.release()\n",
    "cv2.destroyAllWindows()"
   ]
  },
  {
   "cell_type": "code",
   "execution_count": 3,
   "metadata": {},
   "outputs": [
    {
     "name": "stdout",
     "output_type": "stream",
     "text": [
      "{'result_1': '6', 'result_2': '1'}\n"
     ]
    },
    {
     "data": {
      "image/png": "[encoded data removed]",
      "text/plain": [
       "<Figure size 432x288 with 1 Axes>"
      ]
     },
     "metadata": {
      "needs_background": "light"
     },
     "output_type": "display_data"
    }
   ],
   "source": [
    "new = cv2.imread('digit_image.png',0)\n",
    "new = cv2.bitwise_not(new)\n",
    "ret, new = cv2.threshold(new, 50, 255, cv2.THRESH_BINARY)\n",
    "\n",
    "new = cv2.GaussianBlur(new,(3,3),0)\n",
    "\n",
    "test_x = np.array(new)\n",
    "plt.imshow(test_x,cmap=plt.cm.binary)\n",
    "r = requests.post('http://localhost:9860/', json = {'test_x':test_x.tolist()})\n",
    "print(r.json())"
   ]
  },
  {
   "cell_type": "markdown",
   "metadata": {},
   "source": [
    "Model which was trained on MNIST Dataset - had one thing in common i.e, every image had digit in the middle 18 X 18 pixels.<br>\n",
    "So the model expects the test-data in the same format as well.<br>\n",
    "Hence to do that i padded 18 X 18 image with zero values to make it 28 X 28 size.<br>"
   ]
  },
  {
   "cell_type": "code",
   "execution_count": null,
   "metadata": {},
   "outputs": [],
   "source": []
  },
  {
   "cell_type": "code",
   "execution_count": null,
   "metadata": {},
   "outputs": [],
   "source": []
  },
  {
   "cell_type": "code",
   "execution_count": null,
   "metadata": {},
   "outputs": [],
   "source": []
  },
  {
   "cell_type": "code",
   "execution_count": null,
   "metadata": {},
   "outputs": [],
   "source": []
  }
 ],
 "metadata": {
  "kernelspec": {
   "display_name": "Python 3",
   "language": "python",
   "name": "python3"
  },
  "language_info": {
   "codemirror_mode": {
    "name": "ipython",
    "version": 3
   },
   "file_extension": ".py",
   "mimetype": "text/x-python",
   "name": "python",
   "nbconvert_exporter": "python",
   "pygments_lexer": "ipython3",
   "version": "3.7.3"
  }
 },
 "nbformat": 4,
 "nbformat_minor": 2
}
