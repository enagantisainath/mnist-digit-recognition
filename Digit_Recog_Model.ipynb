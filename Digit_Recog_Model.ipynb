{
 "cells": [
  {
   "cell_type": "code",
   "execution_count": 1,
   "metadata": {},
   "outputs": [],
   "source": [
    "import numpy as np\n",
    "import tensorflow as tf\n",
    "import pandas as pd\n",
    "import matplotlib.pyplot as plt\n",
    "from sklearn.model_selection import train_test_split"
   ]
  },
  {
   "cell_type": "code",
   "execution_count": 2,
   "metadata": {},
   "outputs": [
    {
     "name": "stdout",
     "output_type": "stream",
     "text": [
      "X_train  (51000, 28, 28) X_test  (10000, 28, 28) X_val  (9000, 28, 28)\n"
     ]
    }
   ],
   "source": [
    "data = np.load('mnist_data.npz')\n",
    "X_train, Y_train, X_test, Y_test = data['x_train'],data['y_train'],data['x_test'],data['y_test']\n",
    "X_train,X_val,Y_train,Y_val = train_test_split(X_train,Y_train,test_size=0.15)\n",
    "\n",
    "print('X_train ',X_train.shape,'X_test ',X_test.shape,'X_val ',X_val.shape)"
   ]
  },
  {
   "cell_type": "code",
   "execution_count": 3,
   "metadata": {},
   "outputs": [
    {
     "name": "stdout",
     "output_type": "stream",
     "text": [
      "Image size -  (28, 28)\n",
      "Label -  9\n"
     ]
    },
    {
     "data": {
      "image/png": "[encoded data removed]",
      "text/plain": [
       "<Figure size 432x288 with 1 Axes>"
      ]
     },
     "metadata": {
      "needs_background": "light"
     },
     "output_type": "display_data"
    }
   ],
   "source": [
    "idx = 5\n",
    "plt.imshow(X_train[idx])\n",
    "print(\"Image size - \",X_train[idx].shape)\n",
    "print(\"Label - \",Y_train[idx])"
   ]
  },
  {
   "cell_type": "code",
   "execution_count": 4,
   "metadata": {},
   "outputs": [],
   "source": [
    "# Scaling Data\n",
    "X_train = X_train/255\n",
    "X_val = X_val/255\n",
    "X_test = X_test/255"
   ]
  },
  {
   "cell_type": "code",
   "execution_count": 5,
   "metadata": {},
   "outputs": [
    {
     "name": "stdout",
     "output_type": "stream",
     "text": [
      "X_train  (51000, 28, 28, 1) X_test  (10000, 28, 28, 1) X_val  (9000, 28, 28, 1)\n"
     ]
    }
   ],
   "source": [
    "# Reshape Data\n",
    "\n",
    "X_train = X_train.reshape(X_train.shape[0], 28, 28, 1)\n",
    "X_val = X_val.reshape(X_val.shape[0], 28, 28, 1)\n",
    "X_test = X_test.reshape(X_test.shape[0], 28, 28, 1)\n",
    "\n",
    "print('X_train ',X_train.shape,'X_test ',X_test.shape,'X_val ',X_val.shape)"
   ]
  },
  {
   "cell_type": "code",
   "execution_count": 6,
   "metadata": {},
   "outputs": [],
   "source": [
    "from tensorflow.keras.models import Sequential\n",
    "from tensorflow.keras.layers import Dense, Conv2D, MaxPool2D, Flatten\n",
    "from tensorflow.keras.callbacks import EarlyStopping"
   ]
  },
  {
   "cell_type": "code",
   "execution_count": 7,
   "metadata": {},
   "outputs": [],
   "source": [
    "model = Sequential()\n",
    "\n",
    "model.add(Conv2D(filters=10,kernel_size=(4,4),input_shape=(28, 28, 1),padding='valid',activation='relu'))\n",
    "model.add(MaxPool2D(pool_size=(2,2)))\n",
    "model.add(Flatten())\n",
    "model.add(Dense(20,activation='relu'))\n",
    "model.add(Dense(10,activation='softmax'))\n",
    "\n",
    "model.compile(optimizer='adam',loss='sparse_categorical_crossentropy',metrics=['accuracy'])\n",
    "early_stop = EarlyStopping(patience=2)"
   ]
  },
  {
   "cell_type": "code",
   "execution_count": 8,
   "metadata": {},
   "outputs": [
    {
     "name": "stdout",
     "output_type": "stream",
     "text": [
      "Model: \"sequential\"\n",
      "_________________________________________________________________\n",
      "Layer (type)                 Output Shape              Param #   \n",
      "=================================================================\n",
      "conv2d (Conv2D)              (None, 25, 25, 10)        170       \n",
      "_________________________________________________________________\n",
      "max_pooling2d (MaxPooling2D) (None, 12, 12, 10)        0         \n",
      "_________________________________________________________________\n",
      "flatten (Flatten)            (None, 1440)              0         \n",
      "_________________________________________________________________\n",
      "dense (Dense)                (None, 20)                28820     \n",
      "_________________________________________________________________\n",
      "dense_1 (Dense)              (None, 10)                210       \n",
      "=================================================================\n",
      "Total params: 29,200\n",
      "Trainable params: 29,200\n",
      "Non-trainable params: 0\n",
      "_________________________________________________________________\n"
     ]
    }
   ],
   "source": [
    "model.summary()"
   ]
  },
  {
   "cell_type": "code",
   "execution_count": 9,
   "metadata": {},
   "outputs": [
    {
     "name": "stdout",
     "output_type": "stream",
     "text": [
      "Train on 51000 samples, validate on 9000 samples\n",
      "Epoch 1/20\n",
      "51000/51000 - 7s - loss: 0.4855 - accuracy: 0.8608 - val_loss: 0.1936 - val_accuracy: 0.9462\n",
      "Epoch 2/20\n",
      "51000/51000 - 7s - loss: 0.1531 - accuracy: 0.9563 - val_loss: 0.1237 - val_accuracy: 0.9654\n",
      "Epoch 3/20\n",
      "51000/51000 - 7s - loss: 0.1041 - accuracy: 0.9701 - val_loss: 0.0955 - val_accuracy: 0.9712\n",
      "Epoch 4/20\n",
      "51000/51000 - 7s - loss: 0.0825 - accuracy: 0.9758 - val_loss: 0.0831 - val_accuracy: 0.9747\n",
      "Epoch 5/20\n",
      "51000/51000 - 7s - loss: 0.0706 - accuracy: 0.9793 - val_loss: 0.0757 - val_accuracy: 0.9756\n",
      "Epoch 6/20\n",
      "51000/51000 - 7s - loss: 0.0614 - accuracy: 0.9822 - val_loss: 0.0721 - val_accuracy: 0.9774\n",
      "Epoch 7/20\n",
      "51000/51000 - 7s - loss: 0.0550 - accuracy: 0.9835 - val_loss: 0.0616 - val_accuracy: 0.9802\n",
      "Epoch 8/20\n",
      "51000/51000 - 7s - loss: 0.0501 - accuracy: 0.9851 - val_loss: 0.0687 - val_accuracy: 0.9787\n",
      "Epoch 9/20\n",
      "51000/51000 - 7s - loss: 0.0467 - accuracy: 0.9860 - val_loss: 0.0617 - val_accuracy: 0.9811\n"
     ]
    },
    {
     "data": {
      "text/plain": [
       "<tensorflow.python.keras.callbacks.History at 0x1bd3c2bbe88>"
      ]
     },
     "execution_count": 9,
     "metadata": {},
     "output_type": "execute_result"
    }
   ],
   "source": [
    "model.fit(X_train,Y_train,validation_data=(X_val,Y_val),epochs=20,batch_size=100,verbose=2,callbacks=[early_stop])"
   ]
  },
  {
   "cell_type": "code",
   "execution_count": 10,
   "metadata": {},
   "outputs": [
    {
     "name": "stdout",
     "output_type": "stream",
     "text": [
      "10000/10000 [==============================] - 1s 139us/sample - loss: 0.0548 - accuracy: 0.9807\n"
     ]
    },
    {
     "data": {
      "text/plain": [
       "[0.054806072879838755, 0.9807]"
      ]
     },
     "execution_count": 10,
     "metadata": {},
     "output_type": "execute_result"
    }
   ],
   "source": [
    "model.evaluate(X_test,Y_test)"
   ]
  },
  {
   "cell_type": "code",
   "execution_count": 11,
   "metadata": {},
   "outputs": [],
   "source": [
    "p = model.predict(X_test).argmax(axis=1)\n",
    "#predictions = model.predict_classes(X_test) # Direct method for classes."
   ]
  },
  {
   "cell_type": "code",
   "execution_count": 12,
   "metadata": {},
   "outputs": [
    {
     "name": "stdout",
     "output_type": "stream",
     "text": [
      "Model Output -  4\n",
      "Actual Label -  4\n"
     ]
    },
    {
     "data": {
      "image/png": "[encoded data removed]",
      "text/plain": [
       "<Figure size 432x288 with 1 Axes>"
      ]
     },
     "metadata": {
      "needs_background": "light"
     },
     "output_type": "display_data"
    }
   ],
   "source": [
    "idx = 49\n",
    "plt.imshow(X_test[idx,].reshape(28,28))\n",
    "print('Model Output - ',p[idx])\n",
    "print('Actual Label - ',Y_test[idx])"
   ]
  },
  {
   "cell_type": "code",
   "execution_count": null,
   "metadata": {},
   "outputs": [],
   "source": []
  },
  {
   "cell_type": "code",
   "execution_count": null,
   "metadata": {},
   "outputs": [],
   "source": []
  }
 ],
 "metadata": {
  "kernelspec": {
   "display_name": "Python 3",
   "language": "python",
   "name": "python3"
  },
  "language_info": {
   "codemirror_mode": {
    "name": "ipython",
    "version": 3
   },
   "file_extension": ".py",
   "mimetype": "text/x-python",
   "name": "python",
   "nbconvert_exporter": "python",
   "pygments_lexer": "ipython3",
   "version": "3.7.3"
  }
 },
 "nbformat": 4,
 "nbformat_minor": 4
}
